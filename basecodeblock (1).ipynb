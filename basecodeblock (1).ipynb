{
 "cells": [
  {
   "cell_type": "code",
   "execution_count": null,
   "id": "4b7c656c",
   "metadata": {},
   "outputs": [],
   "source": [
    "import subprocess\n",
    "\n",
    "#Enter emasser command here and output to file in current directory\n",
    "cmd = \"emasser get controls forSystem --systemId=33  > results.json\"\n",
    "\n",
    "run = subprocess.run(cmd, shell=True)"
   ]
  },
  {
   "cell_type": "code",
   "execution_count": null,
   "id": "dadffb71",
   "metadata": {
    "scrolled": false
   },
   "outputs": [],
   "source": [
    "import json\n",
    "import pandas as pd\n",
    "from pprint import pprint\n",
    "\n",
    "#Load eMASSER JSON file\n",
    "with open ('results.json', 'r+') as f:\n",
    "    data = json.loads(f.read())\n",
    "\n",
    "#Move into data array\n",
    "df=pd.json_normalize(data, record_path=\"data\")\n",
    "\n",
    "#Set Index\n",
    "df.set_index([\"acronym\"], inplace = True)\n",
    "\n",
    "#Show all columns\n",
    "pd.set_option(\"display.max.columns\", None)\n",
    "\n",
    "pd.set_option(\"display.max.rows\", None)\n",
    "df"
   ]
  },
  {
   "cell_type": "code",
   "execution_count": null,
   "id": "a6ae8b0d",
   "metadata": {},
   "outputs": [],
   "source": [
    "#Show relevant columns\n",
    "df.reindex(columns=['name', 'acronym', 'organizationName','systemType',\"authorizationStatus\"])"
   ]
  },
  {
   "cell_type": "code",
   "execution_count": null,
   "id": "3dce0646",
   "metadata": {},
   "outputs": [],
   "source": [
    "import matplotlib.ticker as mtick\n",
    "import matplotlib.pyplot as plt\n",
    "\n",
    "#Sample bar graph\n",
    "df.groupby('confidentiality')['name'].nunique().plot(kind='bar')\n",
    "plt.title('Level of Confidentiality')\n",
    "plt.yticks(color='w')\n",
    "plt.xlabel(\"\")\n",
    "plt.show()"
   ]
  },
  {
   "cell_type": "code",
   "execution_count": null,
   "id": "3518c2c3",
   "metadata": {
    "scrolled": true
   },
   "outputs": [],
   "source": [
    "#Pie Chart Visualizing ATO Status for pulled Systems\n",
    "\n",
    "#Pie chart for ATO status\n",
    "df['authorizationStatus'].value_counts().plot(kind=\"pie\", ylabel=\"\", title = \"ATO STATUS\", figsize=(5, 5),autopct='%1.1f%%', startangle=90)"
   ]
  },
  {
   "cell_type": "code",
   "execution_count": null,
   "id": "98c9de1f",
   "metadata": {},
   "outputs": [],
   "source": []
  }
 ],
 "metadata": {
  "kernelspec": {
   "display_name": "Python 3 (ipykernel)",
   "language": "python",
   "name": "python3"
  },
  "language_info": {
   "codemirror_mode": {
    "name": "ipython",
    "version": 3
   },
   "file_extension": ".py",
   "mimetype": "text/x-python",
   "name": "python",
   "nbconvert_exporter": "python",
   "pygments_lexer": "ipython3",
   "version": "3.9.7"
  }
 },
 "nbformat": 4,
 "nbformat_minor": 5
}
